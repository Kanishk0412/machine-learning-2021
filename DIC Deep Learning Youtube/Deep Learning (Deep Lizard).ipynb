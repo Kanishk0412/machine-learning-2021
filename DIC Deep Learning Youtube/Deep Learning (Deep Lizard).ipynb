{
 "cells": [
  {
   "cell_type": "markdown",
   "id": "4f45e19b",
   "metadata": {},
   "source": [
    "# Deep Learning\n",
    "\n",
    "**Machine Learning**\n",
    "\n",
    "Machine Learning is the practice to analyze data, learn from algorithm to analayze data and then makes determination and prediction about new data.\n",
    "\n",
    "How Machine Learning working differentely from traditional language.\n"
   ]
  },
  {
   "cell_type": "markdown",
   "id": "396d6285",
   "metadata": {},
   "source": [
    "**Deep Learning**\n",
    "* Deep Learning is a subfield of machine learning that uses algorithms inspired by the structure and function of the brain's neural networks.\n",
    "* As a subfield of ML, DL also algorithms to analyze data, learn from that data, and then makes a determination or prediction about new data.\n",
    "\n",
    "\n",
    "**Supervised & Unsupervised Learning**\n",
    "\n",
    "**Supervised Learning** occurs when your deep learning model learns and makes inferences from data that has already been labeled.\n",
    "\n",
    "**Unsupervised Learning** occurs when the model learns and makes inferences from unlabaled data."
   ]
  },
  {
   "cell_type": "markdown",
   "id": "113aaa2e",
   "metadata": {},
   "source": [
    "# Artificial Neural Network\n",
    "\n",
    "Artificial Neural Networks are deep learning models that are based on the structure of the brain's neural networks.\n",
    "\n",
    "* Artificial neural networks are used interchangeably with the terms.\n",
    "    * Neural net\n",
    "    * Net\n",
    "    * Model\n",
    "    \n",
    "Artificial Neural Networks are computing systems that are inspired by the brain's neural networks.\n",
    "\n",
    "* These networks are based on a collection of connected units called artificial neurons or neurons.\n",
    "* Each connection between neurons can transmit a signal from one neuron to another.\n",
    "* The receiving neuron processes the signals downstream neurons connected to it.\n",
    "* Neurons are organized in layers.\n",
    "    * Input Layer\n",
    "    * Hidden Layer\n",
    "    * Output Layer\n",
    "\n"
   ]
  },
  {
   "cell_type": "code",
   "execution_count": 13,
   "id": "38b0f7f8",
   "metadata": {},
   "outputs": [],
   "source": [
    "from keras.models import Sequential\n",
    "from keras.layers import Dense, Activation\n",
    "\n",
    "model = Sequential([\n",
    "    Dense(5, input_shape=(3,), activation='relu'),\n",
    "    Dense(2, activation='softmax'),\n",
    "])"
   ]
  },
  {
   "cell_type": "markdown",
   "id": "1fbac6db",
   "metadata": {},
   "source": [
    "# Layers in Deep Learning"
   ]
  },
  {
   "cell_type": "code",
   "execution_count": 11,
   "id": "0793395f",
   "metadata": {},
   "outputs": [
    {
     "data": {
      "text/plain": [
       "(10,)"
      ]
     },
     "execution_count": 11,
     "metadata": {},
     "output_type": "execute_result"
    }
   ],
   "source": [
    "a = np.array([0,0,1,1,1,1,1,1,1,1])\n",
    "a.shape"
   ]
  },
  {
   "cell_type": "code",
   "execution_count": 18,
   "id": "a7b974ce",
   "metadata": {},
   "outputs": [
    {
     "ename": "AttributeError",
     "evalue": "module 'scipy.ndimage' has no attribute 'imread'",
     "output_type": "error",
     "traceback": [
      "\u001b[1;31m---------------------------------------------------------------------------\u001b[0m",
      "\u001b[1;31mAttributeError\u001b[0m                            Traceback (most recent call last)",
      "\u001b[1;32m<ipython-input-18-8fa4b67ce74a>\u001b[0m in \u001b[0;36m<module>\u001b[1;34m\u001b[0m\n\u001b[0;32m      4\u001b[0m \u001b[0mget_ipython\u001b[0m\u001b[1;33m(\u001b[0m\u001b[1;33m)\u001b[0m\u001b[1;33m.\u001b[0m\u001b[0mrun_line_magic\u001b[0m\u001b[1;33m(\u001b[0m\u001b[1;34m'matplotlib'\u001b[0m\u001b[1;33m,\u001b[0m \u001b[1;34m'inline'\u001b[0m\u001b[1;33m)\u001b[0m\u001b[1;33m\u001b[0m\u001b[1;33m\u001b[0m\u001b[0m\n\u001b[0;32m      5\u001b[0m \u001b[1;33m\u001b[0m\u001b[0m\n\u001b[1;32m----> 6\u001b[1;33m \u001b[0mimg\u001b[0m \u001b[1;33m=\u001b[0m \u001b[0mnp\u001b[0m\u001b[1;33m.\u001b[0m\u001b[0mexpand_dims\u001b[0m\u001b[1;33m(\u001b[0m\u001b[0mndimage\u001b[0m\u001b[1;33m.\u001b[0m\u001b[0mimread\u001b[0m\u001b[1;33m(\u001b[0m\u001b[1;34m'NN.PNG'\u001b[0m\u001b[1;33m)\u001b[0m\u001b[1;33m,\u001b[0m\u001b[1;36m8\u001b[0m\u001b[1;33m)\u001b[0m\u001b[1;33m\u001b[0m\u001b[1;33m\u001b[0m\u001b[0m\n\u001b[0m\u001b[0;32m      7\u001b[0m \u001b[0mplt\u001b[0m\u001b[1;33m.\u001b[0m\u001b[0mimshow\u001b[0m\u001b[1;33m(\u001b[0m\u001b[0mimg\u001b[0m\u001b[1;33m[\u001b[0m\u001b[1;36m0\u001b[0m\u001b[1;33m]\u001b[0m\u001b[1;33m)\u001b[0m\u001b[1;33m\u001b[0m\u001b[1;33m\u001b[0m\u001b[0m\n",
      "\u001b[1;31mAttributeError\u001b[0m: module 'scipy.ndimage' has no attribute 'imread'"
     ]
    }
   ],
   "source": [
    "import numpy as np\n",
    "from scipy import ndimage\n",
    "import matplotlib.pyplot as plt\n",
    "%matplotlib inline\n",
    "\n",
    "img = np.expand_dims(ndimage.imread('NN.PNG'),8)\n",
    "plt.imshow(img[0])"
   ]
  },
  {
   "cell_type": "markdown",
   "id": "f7ef4a04",
   "metadata": {},
   "source": [
    "# Activation Function\n",
    "\n",
    "In an artificial neural network, the activation function of a neuron defines the output of that neuron given a set of inputs.\n",
    "\n",
    "* Biologically inspired by activity in our brains, where different neurons fire, or are activated, by different stimuli."
   ]
  },
  {
   "cell_type": "code",
   "execution_count": 16,
   "id": "4978a101",
   "metadata": {},
   "outputs": [],
   "source": [
    "from keras.models import Sequential\n",
    "from keras.layers import Dense, Activation\n",
    "\n",
    "model = Sequential([\n",
    "    Dense(5, input_shape=(3,), activation='relu'),\n",
    "    Dense(2, activation='softmax'),\n",
    "])"
   ]
  },
  {
   "cell_type": "code",
   "execution_count": 17,
   "id": "4d5f4a87",
   "metadata": {},
   "outputs": [
    {
     "ename": "SyntaxError",
     "evalue": "expression cannot contain assignment, perhaps you meant \"==\"? (<ipython-input-17-dee1c624a171>, line 2)",
     "output_type": "error",
     "traceback": [
      "\u001b[1;36m  File \u001b[1;32m\"<ipython-input-17-dee1c624a171>\"\u001b[1;36m, line \u001b[1;32m2\u001b[0m\n\u001b[1;33m    model.add(Dense(5, input.shape=(3,)))\u001b[0m\n\u001b[1;37m                       ^\u001b[0m\n\u001b[1;31mSyntaxError\u001b[0m\u001b[1;31m:\u001b[0m expression cannot contain assignment, perhaps you meant \"==\"?\n"
     ]
    }
   ],
   "source": [
    "model = Sequential()\n",
    "model.add(Dense(5, input.shape=(3,)))\n",
    "model.add(Activation('relu'))"
   ]
  },
  {
   "cell_type": "code",
   "execution_count": null,
   "id": "9b15fd12",
   "metadata": {},
   "outputs": [],
   "source": []
  }
 ],
 "metadata": {
  "kernelspec": {
   "display_name": "Python 3",
   "language": "python",
   "name": "python3"
  },
  "language_info": {
   "codemirror_mode": {
    "name": "ipython",
    "version": 3
   },
   "file_extension": ".py",
   "mimetype": "text/x-python",
   "name": "python",
   "nbconvert_exporter": "python",
   "pygments_lexer": "ipython3",
   "version": "3.8.8"
  }
 },
 "nbformat": 4,
 "nbformat_minor": 5
}
