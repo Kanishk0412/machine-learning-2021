{
 "cells": [
  {
   "cell_type": "markdown",
   "metadata": {
    "id": "YJ01f2F6D5Fu"
   },
   "source": [
    "This tutorial was contributed by [Kanishk Tyagi](https://github.com/Kanishk0412)"
   ]
  },
  {
   "cell_type": "code",
   "execution_count": 1,
   "metadata": {
    "colab": {
     "base_uri": "https://localhost:8080/"
    },
    "id": "5F4_Mdyu4F6p",
    "outputId": "35b117c7-946e-480a-ef6d-bc9d6e3a6489"
   },
   "outputs": [
    {
     "name": "stdout",
     "output_type": "stream",
     "text": [
      "Python 3.7.11\n"
     ]
    }
   ],
   "source": [
    "!python --version\n"
   ]
  },
  {
   "cell_type": "markdown",
   "metadata": {
    "id": "aaZW_9-F1GgZ"
   },
   "source": [
    "### What is NumPy?\n",
    "\n",
    "NumPy, which stands for Numerical Python, is a python library consisting of multidimensional array objects and a collection of routines for processing those arrays. Using NumPy, mathematical and logical operations on arrays can be performed. This tutorial explains the basics of NumPy such as its architecture and environment. It also discusses the various array functions, types of indexing, etc.\n",
    "\n",
    "In 2005,Travis Oliphant created NumPy Package based on previous NumArray.NumPy is often used along with packages like Pandas,SciPy (Scientific Python) and Mat−plotlib (plotting library). \n",
    "\n",
    "###Why use NumPy?\n",
    "In Python we have lists that serve the purpose of arrays, but they are slow to process.\n",
    "\n",
    "NumPy aims to provide an array object that is up to 50x faster than traditional Python lists.\n",
    "\n",
    "The array object in NumPy is called \"ndarray\", it provides a lot of supporting functions that make working with ndarray very easy.\n",
    "\n",
    "Arrays are very frequently used in data science, where speed and resources are very important.\n",
    "<img src=\"https://i.imgur.com/jKHfhRB.png\" alt=\"alt text\" width=\"500\"/>\n",
    "\n",
    "\n",
    "### Audience :\n",
    "- People who wish to learn about machine learning concepts in future.\n",
    "\n",
    "#### Prerequisites :\n",
    "- Basic Understanding of computer programming technologies\n",
    "\n",
    "#### Method to install : \n",
    "If you have Python and PIP already installed on a system, then install it using this command:\n",
    "```\n",
    "pip install numpy\n",
    "```"
   ]
  },
  {
   "cell_type": "markdown",
   "metadata": {
    "id": "AKyA-H7PGrV5"
   },
   "source": [
    "### Import Numpy \n",
    "<img src=\"https://i.imgur.com/Uv7ktFX.png\" alt=\"alt text\" width=\"200\"/>"
   ]
  },
  {
   "cell_type": "code",
   "execution_count": 23,
   "metadata": {
    "colab": {
     "base_uri": "https://localhost:8080/"
    },
    "id": "o6XNLb1JkaV5",
    "outputId": "b4b7199a-1a16-4315-d2f1-ae699b6eb3aa"
   },
   "outputs": [
    {
     "name": "stdout",
     "output_type": "stream",
     "text": [
      "Numpy Version:  1.19.5\n"
     ]
    }
   ],
   "source": [
    "import numpy as np \n",
    "import matplotlib.pylab as plt\n",
    "from numpy import random\n",
    "import cv2 as cv\n",
    "import sys\n",
    "\n",
    "#np is a common alias for numpy\n",
    "print(\"Numpy Version: \" ,np.__version__,)"
   ]
  },
  {
   "cell_type": "code",
   "execution_count": 25,
   "metadata": {
    "id": "3Z0q5tFnfOV9"
   },
   "outputs": [],
   "source": [
    "np.ndarray?"
   ]
  },
  {
   "cell_type": "code",
   "execution_count": 28,
   "metadata": {
    "colab": {
     "base_uri": "https://localhost:8080/"
    },
    "id": "XoQA4KtPSDvA",
    "outputId": "0c320a27-dba6-4e8f-cbe2-77dfc49abe3f"
   },
   "outputs": [
    {
     "data": {
      "text/plain": [
       "[1, 'a', 'asd', 123.0]"
      ]
     },
     "execution_count": 28,
     "metadata": {},
     "output_type": "execute_result"
    }
   ],
   "source": [
    "List=[1,'a','asd',123.0]\n",
    "List"
   ]
  },
  {
   "cell_type": "markdown",
   "metadata": {
    "id": "zOB9LWPdKGPS"
   },
   "source": [
    "###Example"
   ]
  },
  {
   "cell_type": "markdown",
   "metadata": {
    "id": "eY3TaL2vKhXq"
   },
   "source": [
    "A numpy array is a grid of values, all of the same type, and is indexed by a tuple of nonnegative integers. The number of dimensions is the rank of the array; the shape of an array is a tuple of integers giving the size of the array along each dimension.\n",
    "\n",
    "To create an ndarray, we can pass a list, tuple or any array-like object into the array() method, and it will be converted into an ndarray:"
   ]
  },
  {
   "cell_type": "code",
   "execution_count": 5,
   "metadata": {
    "colab": {
     "base_uri": "https://localhost:8080/"
    },
    "id": "qfIaI1ocKSCC",
    "outputId": "ca0b766e-b23f-4ca8-9775-f737c660e2b8"
   },
   "outputs": [
    {
     "name": "stdout",
     "output_type": "stream",
     "text": [
      "[1, 2, 3, 4, 5]\n",
      "<class 'list'>\n",
      "[1 2 3 4 5]\n",
      "<class 'numpy.ndarray'>\n",
      "5\n"
     ]
    }
   ],
   "source": [
    "sample_list=[1,2,3,4,5]\n",
    "print(sample_list)\n",
    "print(type(sample_list))\n",
    "\n",
    "arr = np.array(sample_list,dtype=np.int8) #we can specify the datatype,creates array of rank 1\n",
    "print(arr)\n",
    "print(type(arr))\n",
    "print(arr.nbytes) "
   ]
  },
  {
   "cell_type": "markdown",
   "metadata": {
    "id": "rElbVNOAYGLE"
   },
   "source": [
    "### Array Creation"
   ]
  },
  {
   "cell_type": "markdown",
   "metadata": {
    "id": "X_69HsuvNJYU"
   },
   "source": [
    "#### 0-D Arrays\n",
    "0-D arrays, or Scalars, are the elements in an array. Each value in an array is a 0-D array."
   ]
  },
  {
   "cell_type": "code",
   "execution_count": 6,
   "metadata": {
    "colab": {
     "base_uri": "https://localhost:8080/"
    },
    "id": "frvM0_T2NOzy",
    "outputId": "4ae68241-69b0-40b3-d146-a14313a3177f"
   },
   "outputs": [
    {
     "name": "stdout",
     "output_type": "stream",
     "text": [
      "42\n"
     ]
    }
   ],
   "source": [
    "arr = np.array(42)\n",
    "print(arr)"
   ]
  },
  {
   "cell_type": "markdown",
   "metadata": {
    "id": "BFCBMAaxNiXi"
   },
   "source": [
    "#### 1-D Arrays\n",
    "*An* array that has 0-D arrays as its elements is called uni-dimensional or 1-D array."
   ]
  },
  {
   "cell_type": "code",
   "execution_count": 30,
   "metadata": {
    "colab": {
     "base_uri": "https://localhost:8080/"
    },
    "id": "9CQT-u9nNn7S",
    "outputId": "ee70bc43-f239-48c5-a434-91c8a751fc6e"
   },
   "outputs": [
    {
     "name": "stdout",
     "output_type": "stream",
     "text": [
      "[1 2 3 4 5] : 5\n",
      "[1 2 3 4 5] : 40\n"
     ]
    }
   ],
   "source": [
    "arr = np.array([1, 2, 3, 4, 5],dtype=np.int8)\n",
    "print(arr,\":\",arr.nbytes)\n",
    "\n",
    "arr = np.array([1, 2, 3, 4, 5],dtype=np.int64)\n",
    "print(arr,\":\",arr.nbytes)"
   ]
  },
  {
   "cell_type": "markdown",
   "metadata": {
    "id": "JAAzgYDcNzLC"
   },
   "source": [
    "#### 2-D Arrays\n",
    "An array that has 1-D arrays as its elements is called a 2-D array."
   ]
  },
  {
   "cell_type": "code",
   "execution_count": 8,
   "metadata": {
    "colab": {
     "base_uri": "https://localhost:8080/"
    },
    "id": "Qqa9fVU7N8m1",
    "outputId": "0c537a0e-6f5f-440b-9047-79a6b3cec40f"
   },
   "outputs": [
    {
     "name": "stdout",
     "output_type": "stream",
     "text": [
      "[[1 2 3]\n",
      " [4 5 6]]\n"
     ]
    }
   ],
   "source": [
    "arr = np.array([[1, 2, 3], [4, 5, 6]])\n",
    "print(arr)"
   ]
  },
  {
   "cell_type": "markdown",
   "metadata": {
    "id": "LP_xdrtX74Z6"
   },
   "source": [
    "####Task:\n"
   ]
  },
  {
   "cell_type": "markdown",
   "metadata": {
    "id": "cljDisPr78qr"
   },
   "source": [
    "Make your own 1-D and 2-D array:"
   ]
  },
  {
   "cell_type": "code",
   "execution_count": 9,
   "metadata": {
    "colab": {
     "base_uri": "https://localhost:8080/"
    },
    "id": "PJ_4Ei2B77uZ",
    "outputId": "5ed1ae37-a38d-4c56-93b9-50ec3b8f506b"
   },
   "outputs": [
    {
     "name": "stdout",
     "output_type": "stream",
     "text": [
      "5\n",
      "20\n",
      "[1 2 3 4 5]\n"
     ]
    }
   ],
   "source": [
    "arr = np.array([1, 2, 3, 4, 5],dtype=np.int8)\n",
    "brr = np.array([1, 2, 3, 4, 5],dtype=np.int32)\n",
    "\n",
    "print(arr.nbytes)\n",
    "print(brr.nbytes)\n",
    "print(arr)"
   ]
  },
  {
   "cell_type": "markdown",
   "metadata": {
    "id": "3xa3z_BkOE4T"
   },
   "source": [
    "#### 3-D arrays\n",
    "An array that has 2-D arrays (matrices) as its elements is called 3-D array."
   ]
  },
  {
   "cell_type": "code",
   "execution_count": 10,
   "metadata": {
    "colab": {
     "base_uri": "https://localhost:8080/"
    },
    "id": "mB3dV28VOJ36",
    "outputId": "f33c4fdb-6933-4b2a-e579-f51b4bcb4e78"
   },
   "outputs": [
    {
     "name": "stdout",
     "output_type": "stream",
     "text": [
      "[[[1 2 3]\n",
      "  [4 5 6]]\n",
      "\n",
      " [[1 2 3]\n",
      "  [4 5 6]]]\n"
     ]
    }
   ],
   "source": [
    "arr = np.array([[[1, 2, 3], [4, 5, 6]], [[1, 2, 3], [4, 5, 6]]])\n",
    "print(arr)"
   ]
  },
  {
   "cell_type": "code",
   "execution_count": 11,
   "metadata": {
    "colab": {
     "base_uri": "https://localhost:8080/"
    },
    "id": "4PcUU5RWHNfM",
    "outputId": "e1f32d3f-d0be-42d9-d531-7dd9fa65face"
   },
   "outputs": [
    {
     "name": "stdout",
     "output_type": "stream",
     "text": [
      "A : \n",
      " [1 2 3]\n",
      "B : \n",
      " [[1 2]\n",
      " [3 4]]\n",
      "C : \n",
      " [1.+0.j 2.+0.j 3.+0.j]\n"
     ]
    }
   ],
   "source": [
    "a = np.array([1,2,3]) \n",
    "b = np.array([[1, 2], [3, 4]]) \n",
    "c = np.array([1, 2, 3], dtype = complex) \n",
    "print(\"A : \\n\",a)\n",
    "print(\"B : \\n\",b)\n",
    "print(\"C : \\n\",c)"
   ]
  },
  {
   "cell_type": "markdown",
   "metadata": {
    "id": "Dzj_MjdYPj2y"
   },
   "source": [
    "#### Generate Random Array:"
   ]
  },
  {
   "cell_type": "code",
   "execution_count": 12,
   "metadata": {
    "colab": {
     "base_uri": "https://localhost:8080/"
    },
    "id": "KnDALicODs04",
    "outputId": "6e3d6796-3d7b-4041-bf7c-0927742c9a23"
   },
   "outputs": [
    {
     "name": "stdout",
     "output_type": "stream",
     "text": [
      "[20 30 13 41 40 47]\n",
      "[[7 9 9 3]\n",
      " [6 1 6 0]\n",
      " [9 7 3 4]]\n",
      "[[[8 1 9 5 1]\n",
      "  [9 4 0 9 7]\n",
      "  [0 1 1 3 3]\n",
      "  [9 5 4 6 5]]\n",
      "\n",
      " [[6 8 8 1 4]\n",
      "  [3 4 2 8 9]\n",
      "  [8 8 5 0 8]\n",
      "  [4 2 4 3 8]]\n",
      "\n",
      " [[1 3 4 0 0]\n",
      "  [0 8 1 4 6]\n",
      "  [7 6 5 0 1]\n",
      "  [4 0 0 9 5]]]\n",
      "[20 29 23 18 31]\n"
     ]
    }
   ],
   "source": [
    "x1 = np.random.randint(10,52, size=6 ) # One-dimensional array\n",
    "x2 = np.random.randint(10, size=(3, 4))  # Two-dimensional array\n",
    "x3 = np.random.randint(10, size=(3, 4, 5))  # Three-dimensional array\n",
    "print(x1)\n",
    "print(x2)\n",
    "print(x3)\n",
    "print(np.random.randint(10,50,5)) #start,stop,no of values"
   ]
  },
  {
   "cell_type": "code",
   "execution_count": 13,
   "metadata": {
    "colab": {
     "base_uri": "https://localhost:8080/"
    },
    "id": "m2CMwSDlFhgc",
    "outputId": "278297f3-c19d-4ce8-bf98-cd64dfb6cff6"
   },
   "outputs": [
    {
     "name": "stdout",
     "output_type": "stream",
     "text": [
      "[[[8 1 9 5 1]\n",
      "  [9 4 0 9 7]\n",
      "  [0 1 1 3 3]\n",
      "  [9 5 4 6 5]]\n",
      "\n",
      " [[6 8 8 1 4]\n",
      "  [3 4 2 8 9]\n",
      "  [8 8 5 0 8]\n",
      "  [4 2 4 3 8]]\n",
      "\n",
      " [[1 3 4 0 0]\n",
      "  [0 8 1 4 6]\n",
      "  [7 6 5 0 1]\n",
      "  [4 0 0 9 5]]]\n",
      "x2: \n",
      " [[7 9 9 3]\n",
      " [6 1 6 0]\n",
      " [9 7 3 4]]\n"
     ]
    }
   ],
   "source": [
    "print(x3);\n",
    "print(\"x2: \\n\", x2);\n",
    "# Try to print x3 array\n",
    "# print(...); "
   ]
  },
  {
   "cell_type": "markdown",
   "metadata": {
    "id": "NbUi6tI_VzUv"
   },
   "source": [
    "#### Other methods: Using Arange,Linspace,Zeros,Ones"
   ]
  },
  {
   "cell_type": "code",
   "execution_count": 14,
   "metadata": {
    "colab": {
     "base_uri": "https://localhost:8080/"
    },
    "id": "49BaKBObWI6e",
    "outputId": "5a7b2955-97db-4cac-8703-af76374e33ed"
   },
   "outputs": [
    {
     "data": {
      "text/plain": [
       "array([0. , 0.5, 1. , 1.5, 2. , 2.5, 3. , 3.5, 4. , 4.5, 5. , 5.5, 6. ,\n",
       "       6.5, 7. , 7.5, 8. , 8.5, 9. , 9.5])"
      ]
     },
     "execution_count": 14,
     "metadata": {},
     "output_type": "execute_result"
    }
   ],
   "source": [
    "np.arange(0,10,0.5) #start,stop,size of step"
   ]
  },
  {
   "cell_type": "code",
   "execution_count": 15,
   "metadata": {
    "colab": {
     "base_uri": "https://localhost:8080/"
    },
    "id": "wM4dxfCIWMrd",
    "outputId": "a83f0c68-6c4e-4fca-e90b-1623402cae39"
   },
   "outputs": [
    {
     "data": {
      "text/plain": [
       "array([ 0. ,  2.5,  5. ,  7.5, 10. ])"
      ]
     },
     "execution_count": 15,
     "metadata": {},
     "output_type": "execute_result"
    }
   ],
   "source": [
    "np.linspace(0,10,5) #start,stop,number of values in between"
   ]
  },
  {
   "cell_type": "code",
   "execution_count": 16,
   "metadata": {
    "colab": {
     "base_uri": "https://localhost:8080/"
    },
    "id": "YBZ3GlYPW1w0",
    "outputId": "a7084960-3138-4de0-e57a-2610fff9df37"
   },
   "outputs": [
    {
     "data": {
      "text/plain": [
       "array([[0., 0.],\n",
       "       [0., 0.],\n",
       "       [0., 0.]])"
      ]
     },
     "execution_count": 16,
     "metadata": {},
     "output_type": "execute_result"
    }
   ],
   "source": [
    "np.zeros((3,2))"
   ]
  },
  {
   "cell_type": "code",
   "execution_count": 17,
   "metadata": {
    "colab": {
     "base_uri": "https://localhost:8080/"
    },
    "id": "7CQXNqikXDUn",
    "outputId": "9a80db26-e327-4aea-fff2-c313fbdc43d9"
   },
   "outputs": [
    {
     "data": {
      "text/plain": [
       "array([[1., 1.],\n",
       "       [1., 1.],\n",
       "       [1., 1.]])"
      ]
     },
     "execution_count": 17,
     "metadata": {},
     "output_type": "execute_result"
    }
   ],
   "source": [
    "np.ones((3,2))"
   ]
  },
  {
   "cell_type": "markdown",
   "metadata": {
    "id": "qYsIFKrTUafv"
   },
   "source": [
    "### Ndarray Properties"
   ]
  },
  {
   "cell_type": "code",
   "execution_count": 18,
   "metadata": {
    "colab": {
     "base_uri": "https://localhost:8080/"
    },
    "id": "XSAqAMbIDs05",
    "outputId": "b5fa14e1-63ad-4ca3-b10c-28e15621b187"
   },
   "outputs": [
    {
     "name": "stdout",
     "output_type": "stream",
     "text": [
      "[[7 9 9 3]\n",
      " [6 1 6 0]\n",
      " [9 7 3 4]]\n",
      "<class 'numpy.ndarray'>\n",
      "x2 ndim:  2\n",
      "x2 shape: (3, 4)\n",
      "x2 size:  12\n",
      "x2 datatype:  int8\n",
      "x2 itemsize:  1 bytes\n",
      "x2 nbytes:  12 bytes\n"
     ]
    }
   ],
   "source": [
    "print(x2)\n",
    "print(type(x2))\n",
    "x2 = np.random.randint(10, size=(3, 4),dtype=np.int8)  # Two-dimensional array\n",
    "print(\"x2 ndim: \", x2.ndim) # ndim-> the number of dimensions\n",
    "print(\"x2 shape:\", x2.shape) # shape-> the size of each dimension\n",
    "print(\"x2 size: \", x2.size) # size-> the total size of the array\n",
    "print(\"x2 datatype: \", x2.dtype) # dtype-> the data type of the array\n",
    "print(\"x2 itemsize: \", x2.itemsize,\"bytes\") # itemsize-> lists size of each array element\n",
    "print(\"x2 nbytes: \", x2.nbytes,\"bytes\") # nbytes->  lists the total size (in bytes) of the array"
   ]
  },
  {
   "cell_type": "code",
   "execution_count": 19,
   "metadata": {
    "colab": {
     "base_uri": "https://localhost:8080/"
    },
    "id": "NtGUlXpCIKqw",
    "outputId": "12a09a26-cae8-45fb-cef3-71713f92838e"
   },
   "outputs": [
    {
     "data": {
      "text/plain": [
       "dtype('<U21')"
      ]
     },
     "execution_count": 19,
     "metadata": {},
     "output_type": "execute_result"
    }
   ],
   "source": [
    "List = [0,'lecture',1.0,5.6234]\n",
    "# List.dtype\n",
    "data = np.array(List)\n",
    "data.dtype"
   ]
  },
  {
   "cell_type": "markdown",
   "metadata": {
    "id": "vBCnuc8BKn6s"
   },
   "source": [
    "### Array indexing\n"
   ]
  },
  {
   "cell_type": "code",
   "execution_count": 20,
   "metadata": {
    "colab": {
     "base_uri": "https://localhost:8080/",
     "height": 262
    },
    "id": "gxeYbWbBHuzj",
    "outputId": "06050d18-3e7b-4824-c7f0-1f0a28655c8a"
   },
   "outputs": [
    {
     "name": "stdout",
     "output_type": "stream",
     "text": [
      "[20 30 13 41 40 47]\n"
     ]
    },
    {
     "ename": "IndexError",
     "evalue": "ignored",
     "output_type": "error",
     "traceback": [
      "\u001b[0;31m---------------------------------------------------------------------------\u001b[0m",
      "\u001b[0;31mIndexError\u001b[0m                                Traceback (most recent call last)",
      "\u001b[0;32m<ipython-input-20-aa7ea3916acd>\u001b[0m in \u001b[0;36m<module>\u001b[0;34m()\u001b[0m\n\u001b[1;32m      3\u001b[0m \u001b[0;31m# In single dimensional x1 array :\u001b[0m\u001b[0;34m\u001b[0m\u001b[0;34m\u001b[0m\u001b[0;34m\u001b[0m\u001b[0m\n\u001b[1;32m      4\u001b[0m \u001b[0mprint\u001b[0m\u001b[0;34m(\u001b[0m\u001b[0mx1\u001b[0m\u001b[0;34m)\u001b[0m\u001b[0;34m\u001b[0m\u001b[0;34m\u001b[0m\u001b[0m\n\u001b[0;32m----> 5\u001b[0;31m \u001b[0mprint\u001b[0m\u001b[0;34m(\u001b[0m\u001b[0;34m\"Array 1:\"\u001b[0m\u001b[0;34m,\u001b[0m\u001b[0mx1\u001b[0m\u001b[0;34m[\u001b[0m\u001b[0;36m1\u001b[0m\u001b[0;34m,\u001b[0m\u001b[0;36m1\u001b[0m\u001b[0;34m]\u001b[0m\u001b[0;34m)\u001b[0m\u001b[0;34m;\u001b[0m\u001b[0;34m\u001b[0m\u001b[0;34m\u001b[0m\u001b[0m\n\u001b[0m\u001b[1;32m      6\u001b[0m \u001b[0;31m# In 2-dimensional x2 array :\u001b[0m\u001b[0;34m\u001b[0m\u001b[0;34m\u001b[0m\u001b[0;34m\u001b[0m\u001b[0m\n\u001b[1;32m      7\u001b[0m \u001b[0;31m# print(x2[i,j]);\u001b[0m\u001b[0;34m\u001b[0m\u001b[0;34m\u001b[0m\u001b[0;34m\u001b[0m\u001b[0m\n",
      "\u001b[0;31mIndexError\u001b[0m: too many indices for array: array is 1-dimensional, but 2 were indexed"
     ]
    }
   ],
   "source": [
    "#Array indexing\n",
    "# If we want to access element in different dimensions arrays\n",
    "# In single dimensional x1 array :  \n",
    "print(x1)\n",
    "print(\"Array 1:\",x1[1,1]);\n",
    "# In 2-dimensional x2 array :\n",
    "# print(x2[i,j]);\n",
    "print(x2)\n",
    "print(\"Array 2:\",x2[1,1])\n",
    "# In 3-dimensional x3 array :\n",
    "print(x3)\n",
    "print(\"Array 3:\",x3[1,1,1]);"
   ]
  },
  {
   "cell_type": "markdown",
   "metadata": {
    "id": "ZyUhGYLUgNnL"
   },
   "source": [
    "### Array Slicing\n",
    "Slicing in python means taking elements from one given index to another given index.\n",
    "A slice of an array is a view into the same data, so modifying it will modify the original array."
   ]
  },
  {
   "cell_type": "code",
   "execution_count": null,
   "metadata": {
    "id": "sc8HizuPgZLK"
   },
   "outputs": [],
   "source": [
    "x1 = np.arange(11)\n",
    "print(x1)\n",
    "print(\"Example 1:\",x1[0:10]) # x1[start:end]\n",
    "print(\"Example 2:\",x1[0:10:3]) # x1[start:end:step]\n",
    "print(\"Example 3:\",x1[5:]) # all elements from index 0 to the end of the array\n",
    "print(\"Example 4:\",x1[:5]) # all elements from beginning to index 5\n",
    "#Negative slicing can also be done\n",
    "print(\"Example 5:\",x1[::2]) #return every other element from start index 0 to index 10\n",
    "\n",
    "x2 = np.array([[1, 2, 3, 4, 5], [6, 7, 8, 9, 10]])\n",
    "print(x2)\n",
    "print(\"Example 6:\",x2[0:2, 1:4]) #  slice index 1 to index 4 (not included),2-d array returned"
   ]
  },
  {
   "cell_type": "markdown",
   "metadata": {
    "id": "GJ1QuXTglDD4"
   },
   "source": [
    "### Array Manipulation"
   ]
  },
  {
   "cell_type": "code",
   "execution_count": null,
   "metadata": {
    "id": "-mN-NAhJPItv"
   },
   "outputs": [],
   "source": [
    "x1 = np.arange(10)\n",
    "print(\"x1:\",x1)\n",
    "x1[3] = 5\n",
    "print(\"x1:\",x1)"
   ]
  },
  {
   "cell_type": "code",
   "execution_count": null,
   "metadata": {
    "id": "HAkhtSZegY76"
   },
   "outputs": [],
   "source": [
    "print(\"x2:\\n\",x2)\n",
    "print(\"Logical operation in arrays:\",x2[(x2>3) & (x2<7)])\n",
    "print(\"Example 2:\",x2[x2>6])"
   ]
  },
  {
   "cell_type": "code",
   "execution_count": null,
   "metadata": {
    "id": "IRFm_jSDlRHN"
   },
   "outputs": [],
   "source": [
    "new_arr= np.array([0,1,2,1,3,4,1])\n",
    "print(\"Print Unique Array:\",np.unique(new_arr)) # using np.unique method"
   ]
  },
  {
   "cell_type": "code",
   "execution_count": null,
   "metadata": {
    "id": "IvEsu-cQmNU4"
   },
   "outputs": [],
   "source": [
    "print(\"Array x2 :\\n\",x2)\n",
    "print(\"Array x2':\\n\",np.transpose(x2)) #Transpose of array "
   ]
  },
  {
   "cell_type": "code",
   "execution_count": null,
   "metadata": {
    "id": "2YAVRLzen4_F"
   },
   "outputs": [],
   "source": [
    "print(\"Array x2 :\\n\",x2)\n",
    "print(\"Array x2':\\n\",x2.flatten()) # Flatten the array"
   ]
  },
  {
   "cell_type": "code",
   "execution_count": null,
   "metadata": {
    "id": "bqtuGtnlodlV"
   },
   "outputs": [],
   "source": [
    "# x2 = np.random.randint(10,50, 9)\n",
    "# print(x2)\n",
    "# print(\"Sorted Array x2:\\n\",) \n",
    "# print(x2.sort(axis=0))"
   ]
  },
  {
   "cell_type": "markdown",
   "metadata": {
    "id": "FXVYkmDc0pdX"
   },
   "source": [
    "### Task: Find unique values "
   ]
  },
  {
   "cell_type": "code",
   "execution_count": null,
   "metadata": {
    "id": "rzwZd-No0284"
   },
   "outputs": [],
   "source": [
    "x1 = np.random.randint(start,stop,num) #start,stop,no of values\n",
    "# First find unqiue valus\n",
    "\n",
    "# Then find values greater than the stop/2\n"
   ]
  },
  {
   "cell_type": "markdown",
   "metadata": {
    "id": "kCaBnxOCKYPG"
   },
   "source": [
    "### Array Reshape\n",
    "- Using Shape\n",
    "- Using Reshape"
   ]
  },
  {
   "cell_type": "code",
   "execution_count": null,
   "metadata": {
    "id": "Nje_YSPFSOt_"
   },
   "outputs": [],
   "source": [
    "arr = np.arange(10)\n",
    "print(\"Initial Array : \",arr)\n",
    "print(\"Initial Array Shape: \",arr.shape)\n",
    "arr = arr.reshape(2,5)\n",
    "print(\"Final Array  : \\n\",arr)\n",
    "print(\"Final Array Shape: \",arr.shape)"
   ]
  },
  {
   "cell_type": "markdown",
   "metadata": {
    "id": "z-H13z-_0jBT"
   },
   "source": [
    "### Task : Do Reshape"
   ]
  },
  {
   "cell_type": "code",
   "execution_count": null,
   "metadata": {
    "id": "SaXTFFYElNgG"
   },
   "outputs": [],
   "source": [
    "# Do it yourself\n",
    "brr = np.array([[1,2,3,4,5,6],[4,5,6,7,8,9]]) \n",
    "print(brr) # find the brr shape first \n",
    "#brr.shape = # (rows,columns) , \n",
    "print(brr) #How many rows and columns does it have now?"
   ]
  },
  {
   "cell_type": "markdown",
   "metadata": {
    "id": "8Qx3jVJ6pHQJ"
   },
   "source": [
    "### Array Stacking & Splitting\n"
   ]
  },
  {
   "cell_type": "code",
   "execution_count": null,
   "metadata": {
    "id": "Kpg5sDl2pNFx"
   },
   "outputs": [],
   "source": [
    "x1 = np.random.randint(10, size=(3, 3))\n",
    "x2 = np.random.randint(10, size=(3,3))\n",
    "print(\"x1: \\n\",x1)\n",
    "print(\"x2: \\n\",x2)\n",
    "print(\"Vertical Stack: \\n\",np.vstack((x1,x2))) #useful in pandas if you remember csv\n",
    "print(\"Horizontal Stack: \\n\",np.hstack((x1,x2)))\n",
    "\n",
    "# Generate 2x10 array\n",
    "ss_arr_5 = np.random.randint(10, size=(2, 10))\n",
    "print(\"ss_arr_5\\n\", ss_arr_5)\n",
    "# Split into 5 arrays taking from both arrays in multidimensional array\n",
    "print(\"Horizontal Split:\\n\",np.hsplit(ss_arr_5, 5))"
   ]
  },
  {
   "cell_type": "code",
   "execution_count": null,
   "metadata": {
    "id": "Woex4SzmrTBQ"
   },
   "outputs": [],
   "source": [
    "print(\"x1: \\n\",x1)\n",
    "print(\"x2: \\n\",x2)\n",
    "x3 = np.delete(x1,2,1) # (arr,columnindex, axis) ,in axis, 0 is for row and 1 is for column\n",
    "x4 = np.delete(x2,1,0)\n",
    "print(\"x3: \\n\",x3)\n",
    "print(\"x4: \\n\",x4)"
   ]
  },
  {
   "cell_type": "markdown",
   "metadata": {
    "id": "8d-v4Xyyv2Kl"
   },
   "source": [
    "### Array Copying\n"
   ]
  },
  {
   "cell_type": "code",
   "execution_count": null,
   "metadata": {
    "id": "Gh5nIVQCv3lc"
   },
   "outputs": [],
   "source": [
    "x1 = np.random.randint(10, size=(2, 2))\n",
    "print(\"Initial x1:\",x1)\n",
    "x2 = x1 # they will point at same array\n",
    "x2[0,0] = 5\n",
    "print(x1,\"\\n\",x1)\n",
    "\n",
    "x2=x1.view() \n",
    "x2[1,1] = 2\n",
    "print(x1,\"\\n\",x2)\n",
    "\n",
    "x2=x1.copy()\n",
    "print(x1,\"\\n\",x2)\n",
    "#main difference between a copy and a view of an array is that the copy is a new array, and the view is just a view of the original array."
   ]
  },
  {
   "cell_type": "markdown",
   "metadata": {
    "id": "LfsKOlIrQp7f"
   },
   "source": [
    "### Array Math\n",
    "Basic mathematical functions operate elementwise on arrays, and are available both as operator overloads and as functions."
   ]
  },
  {
   "cell_type": "code",
   "execution_count": null,
   "metadata": {
    "id": "asGqkstTQpJE"
   },
   "outputs": [],
   "source": [
    "x = np.array([[1,2],[3,4]], dtype=np.float64)\n",
    "y = np.array([[5,6],[7,8]], dtype=np.float64)\n",
    "\n",
    "# Elementwise sum; both produce the array\n",
    "# [[ 6.0  8.0]\n",
    "#  [10.0 12.0]]\n",
    "print(x+2)\n",
    "print(x + y)\n",
    "print(np.add(x,2))\n",
    "print(np.add(x, y))"
   ]
  },
  {
   "cell_type": "code",
   "execution_count": null,
   "metadata": {
    "id": "Gz4whjL3RKf0"
   },
   "outputs": [],
   "source": [
    "\n",
    "# Elementwise difference; both produce the array\n",
    "# [[-4.0 -4.0]\n",
    "#  [-4.0 -4.0]]\n",
    "print(x - y)\n",
    "print(np.subtract(x, y))"
   ]
  },
  {
   "cell_type": "code",
   "execution_count": null,
   "metadata": {
    "id": "LzLqguGKRNXT"
   },
   "outputs": [],
   "source": [
    "# Elementwise product; both produce the array\n",
    "# [[ 5.0 12.0]\n",
    "#  [21.0 32.0]]\n",
    "print(x * y)\n",
    "print(np.multiply(x, y))"
   ]
  },
  {
   "cell_type": "code",
   "execution_count": null,
   "metadata": {
    "id": "VhSeOrQ3RRXB"
   },
   "outputs": [],
   "source": [
    "# Elementwise division; both produce the array\n",
    "# [[ 0.2         0.33333333]\n",
    "#  [ 0.42857143  0.5       ]]\n",
    "print(x / y)\n",
    "print(np.divide(x, y))\n",
    "print(np.remainder(x, y))\n",
    "print(np.log2(x))"
   ]
  },
  {
   "cell_type": "code",
   "execution_count": null,
   "metadata": {
    "id": "JiTJ89CNRU5K"
   },
   "outputs": [],
   "source": [
    "# Elementwise square root; produces the array\n",
    "# [[ 1.          1.41421356]\n",
    "#  [ 1.73205081  2.        ]]\n",
    "print(np.sqrt(x))"
   ]
  },
  {
   "cell_type": "code",
   "execution_count": null,
   "metadata": {
    "id": "_YMaCnXxXrK6"
   },
   "outputs": [],
   "source": [
    "np.floor([1.2,3.23,123.21])"
   ]
  },
  {
   "cell_type": "code",
   "execution_count": null,
   "metadata": {
    "id": "YFVzOVY9Xwpl"
   },
   "outputs": [],
   "source": [
    "np.ceil([1.2,3.23,123.21])"
   ]
  },
  {
   "cell_type": "code",
   "execution_count": null,
   "metadata": {
    "id": "mRvsksppUxAm"
   },
   "outputs": [],
   "source": [
    "x = np.random.randint(100, size=(4))\n",
    "y = np.random.randint(100, size=(2,3))\n",
    "print(y)\n",
    "print(\"direct sum:\",y.sum(axis=0))\n",
    "print(\"cumsum : \" ,y.cumsum(axis=0))\n",
    "print(\"max:\",y.max(axis=1))\n",
    "print(\"min:\",y.min(axis=0))"
   ]
  },
  {
   "cell_type": "markdown",
   "metadata": {
    "id": "tAio-SgrVY3D"
   },
   "source": [
    "### Linear Algebra\n"
   ]
  },
  {
   "cell_type": "code",
   "execution_count": null,
   "metadata": {
    "id": "gJvtpKmbQXJP"
   },
   "outputs": [],
   "source": [
    "from numpy import linalg as LA\n",
    "# Random 4 digit 1D array between 0 to 100\n",
    "arr_5 = np.array([[1, 2], [3, 4]])\n",
    "arr_6 = np.array([[2, 4], [6, 9]])\n",
    "\n",
    "print(\"arr_5\\n\", arr_5)\n",
    "print(\"arr_6\\n\", arr_6)\n",
    "arr_8 = np.array([[5, 6], [7, 8]])\n",
    "\n",
    "# Matrix multiplication with Dot Product\n",
    "# (1 * 2) + (2 * 6) = 14 [0,0]\n",
    "# (1 * 4) + (2 * 9) = 22 [0,1]\n",
    "# (3 * 2) + (4 * 6) = 30 [1,0]\n",
    "# (3 * 4) + (4 * 9) = 12 + 36 = 48 [1,1]\n",
    "np.dot(arr_5, arr_6)\n",
    "# Compute dot product of 2 or more arrays\n",
    "LA.multi_dot([arr_5, arr_6, arr_8])\n",
    "\n",
    "# Inner product \n",
    "# (1 * 2) + (2 * 4) = 10 [0,0]\n",
    "# (1 * 6) + (2 * 9) = 24 [0,1]\n",
    "# (3 * 2) + (4 * 4) = 22 [1,0]\n",
    "# (3 * 6) + (4 * 9) = 54 [1,1]\n",
    "np.inner(arr_5, arr_6)\n",
    "np.dot(arr_5, arr_6)\n",
    "\n",
    "# Raise matrix to the power of n\n",
    "# Given [[a, b], [c, d]]\n",
    "# [[a² + bc, ab +db], [ac + dc, d² + bc]\n",
    "LA.matrix_power(arr_5, 2)\n",
    "# A\n",
    "\n",
    "# Get Multiplicative Inverse of a matrix\n",
    "LA.inv(arr_5)\n",
    "\n",
    "# # Get Condition number of matrix\n",
    "# LA.cond(arr_5)\n",
    "\n",
    "# Determinates are used to compute volume, area, to solve systems\n",
    "# of equations and more. It is a way you can multiply values in a\n",
    "# matrix to get 1 number.\n",
    "# For a matrix to have an inverse its determinate must not equal 0\n",
    "# det([[a, b], [c, d]]) = a*d - b*c\n",
    "arr_12 = np.array([[1, 2], [3, 4]])\n",
    "# 1*4 - 2*3 = -2\n",
    "LA.det(arr_12)\n",
    "\n",
    "# Determinate of 3x3 Matrix\n",
    "# det([[a, b, c], [d, e, f], [g, h, i]]) = a*e*i - b*d*i + c*d*h\n",
    "# - a*f*h + b*f*g - c*e*g\n",
    "\n",
    "# When we multiply a matrix times its inverse we get the identity\n",
    "# matrix [[1,0],[0,1]] for a 2x2 matrix\n",
    "# Calculate the inverse 1/(a*d - b*c) * [[d, -b], [-c, a]]\n",
    "# 1/(4 - 6) = -.5 -> [[-.5*4, -.5*-2], [-.5*-3, -.5*a]]\n",
    "arr_12_i = LA.inv(arr_12)\n",
    "arr_12_i\n",
    "\n",
    "np.dot(arr_12, arr_12_i)\n",
    "\n",
    "# Solving Systems of Linear Equations\n",
    "# If you have 3x + 5 = 9x -> 5 = 6x -> x = 5/6\n",
    "# If you have x + 4y = 10 & 6x + 18y = 42\n",
    "# Isolate x -> x = 10 - 4y\n",
    "# 6(10 - 4y) + 18y = 42 -> 60 - 24y + 18y = 42 - > -6y = -18 -> y = 3\n",
    "# x + 4*3 = 10 -> x = -2\n",
    "arr_13 = np.array([[1, 4], [6, 18]])\n",
    "arr_14 = np.array([10, 42])\n",
    "# Solve will solve this for you as well\n",
    "LA.solve(arr_13, arr_14)\n",
    "\n",
    "# Return a identity matrix with defined number of rows and columns\n",
    "np.eye(2, 2, dtype=int)"
   ]
  },
  {
   "cell_type": "code",
   "execution_count": null,
   "metadata": {
    "id": "hN3jOO6DH5Kc"
   },
   "outputs": [],
   "source": [
    "arr_12 = np.array([[1, 2], [3, 4]])\n",
    "# 1*4 - 2*3 = -2\n",
    "LA.det(arr_12)"
   ]
  },
  {
   "cell_type": "code",
   "execution_count": null,
   "metadata": {
    "id": "7mlpwWxYRjmO"
   },
   "outputs": [],
   "source": [
    "x = np.array([[1,2],[3,4]])\n",
    "y = np.array([[5,6],[7,8]])\n",
    "\n",
    "v = np.array([9,10])\n",
    "w = np.array([11, 12])\n",
    "\n",
    "# Inner product of vectors; both produce 219\n",
    "print(v.dot(w))\n",
    "print(np.dot(v, w))"
   ]
  },
  {
   "cell_type": "code",
   "execution_count": null,
   "metadata": {
    "id": "6l8iwoufRoVd"
   },
   "outputs": [],
   "source": [
    "# Matrix / vector product; both produce the rank 1 array [29 67]\n",
    "print(x.dot(v))\n",
    "print(np.dot(x, v))"
   ]
  },
  {
   "cell_type": "code",
   "execution_count": null,
   "metadata": {
    "id": "flYQYDXORvit"
   },
   "outputs": [],
   "source": [
    "# Matrix / matrix product; both produce the rank 2 array\n",
    "# [[19 22]\n",
    "#  [43 50]]\n",
    "print(x.dot(y))\n",
    "print(np.dot(x, y))"
   ]
  },
  {
   "cell_type": "markdown",
   "metadata": {
    "id": "rjmM2vr2NLuj"
   },
   "source": [
    "### Statistics Functions"
   ]
  },
  {
   "cell_type": "code",
   "execution_count": null,
   "metadata": {
    "id": "np_2Ab2MNQ2R"
   },
   "outputs": [],
   "source": [
    "x1 = np.arange(0,10)\n",
    "print(x1)\n",
    "#mean\n",
    "print(\"Mean: \",np.mean(x1))"
   ]
  },
  {
   "cell_type": "code",
   "execution_count": null,
   "metadata": {
    "id": "OrApodjNIyA0"
   },
   "outputs": [],
   "source": [
    "#median\n",
    "print(\"Median:\",np.median(x1))\n",
    "\n",
    "#average\n",
    "print(\"Average:\",np.average(x1))\n",
    "\n",
    "#standard deviation\n",
    "print(\"Standard Deviation:\",np.std(x1))\n",
    "\n",
    "#variance\n",
    "print(\"Variance:\",np.var(x1))"
   ]
  },
  {
   "cell_type": "markdown",
   "metadata": {
    "id": "VwPzPAcLOt5l"
   },
   "source": [
    "### Trignometry Functions"
   ]
  },
  {
   "cell_type": "code",
   "execution_count": null,
   "metadata": {
    "id": "ydnYcuJWOttr"
   },
   "outputs": [],
   "source": [
    "x1 = np.linspace(-np.pi,np.pi,200)\n",
    "plt.plot(x1,np.cos(x1)) #plt.plot(x,y)\n",
    "np.arctan(1)\n",
    "# ALso sinh ,cosh,tanh,arcsinh,arccosh etc\n",
    "np.rad2deg(np.pi)\n",
    "np.deg2rad(np.pi)\n",
    "np.hypot(10,10)"
   ]
  },
  {
   "cell_type": "markdown",
   "metadata": {
    "id": "hy4gQFeyPqUx"
   },
   "source": [
    "### Comparison Functions"
   ]
  },
  {
   "cell_type": "code",
   "execution_count": null,
   "metadata": {
    "id": "aNR2l40UPxEW"
   },
   "outputs": [],
   "source": [
    "carr_1 = np.array([2, 3, 1, 2])\n",
    "carr_2 = np.array([3, 2, 3, 4])\n",
    "# Returns boolean based on whether arr_1 value Comparison arr_2 value\n",
    "print(np.greater(carr_1, carr_2))\n",
    "print(np.greater_equal(carr_1, carr_2))\n",
    "print(np.less(carr_1, carr_2))\n",
    "print(np.less_equal(carr_1, carr_2))\n",
    "print(np.not_equal(carr_1, carr_2))\n",
    "print(np.equal(carr_1, carr_2))"
   ]
  },
  {
   "cell_type": "markdown",
   "metadata": {
    "id": "2HAgspG_VDfE"
   },
   "source": [
    "### Array Flags\n",
    "Ndarray object has the following attributes. Its current values are returned\n",
    " by this function.\n",
    "- C_CONTIGUOUS (C) -The data is in a single, C-style contiguous segment\n",
    "- F_CONTIGUOUS (F) - The data is in a single, Fortran-style contiguous segment\t\n",
    "- OWNDATA (O) - The array owns the memory it uses or borrows it from another object\t\n",
    "- WRITEABLE (W) - The data area can be written to. Setting this to False locks the data, making it read-only\n",
    "- ALIGNED (A) - The data and all elements are aligned appropriately for the hardware\n",
    "- UPDATEIFCOPY (U) - This array is a copy of some other array. When this array is deallocated, the base array will be updated with the contents of this array"
   ]
  },
  {
   "cell_type": "code",
   "execution_count": null,
   "metadata": {
    "id": "tYJqGzqjVM7R"
   },
   "outputs": [],
   "source": [
    "arr = np.array([1,2,3,4,5]) \n",
    "print(x2.flags)"
   ]
  },
  {
   "cell_type": "markdown",
   "metadata": {
    "id": "j27203o3IsCw"
   },
   "source": [
    "## Resources :\n",
    "\n",
    "\n",
    "- Nicolas P. Rougier's Book \"From Python to Numpy\" ->\n",
    " [Link](https://www.labri.fr/perso/nrougier/from-python-to-numpy/) || [Link-2](https://github.com/rougier/numpy-tutorial)\n",
    "- NumPy Official Documentation -> [Link](https://numpy.org/devdocs/user/absolute_beginners.html)\n",
    "- Kaggle Has plethora of notebooks -> [Link](www.kaggle.com)\n",
    "- Learning the python hardway -> [Link](https://learnpythonthehardway.org/book/)\n",
    "- Free Code Camp's Videos -> [Link](https://www.youtube.com/watch?v=QUT1VHiLmmI)\n",
    "- Edureka's video on Numpy -> [Link](https://www.youtube.com/watch?v=8JfDAm9y_7s) || [Link-2](https://www.edureka.co/blog/python-numpy-tutorial/)\n",
    "- Derek Banas videos rock(the best) -> [Link](https://www.youtube.com/watch?v=8Y0qQEh7dJg) || [Link](https://github.com/derekbanas/NumPy-Tutorial/blob/master/NumPy%20Tut.ipynb)\n",
    "- Numpy Playlist -> [Link](https://youtu.be/GB9ByFAIAH4?list=RDQMZI0VMokkS5U)\n",
    "- Scipy Lectures -> [Link](https://scipy-lectures.org/)\n",
    "- Machine Learning Plus -> [Link](https://www.machinelearningplus.com/python/numpy-tutorial-part1-array-python-examples/)\n",
    "- DataQuest.io Tutorial -> [Link](https://www.dataquest.io/blog/numpy-tutorial-python/)\n",
    "- Stanford's Lecture on Numpy-> [Link](https://cs231n.github.io/python-numpy-tutorial/#numpy)\n",
    "\n"
   ]
  }
 ],
 "metadata": {
  "colab": {
   "collapsed_sections": [
    "aaZW_9-F1GgZ",
    "AKyA-H7PGrV5",
    "zOB9LWPdKGPS",
    "X_69HsuvNJYU",
    "BFCBMAaxNiXi",
    "JAAzgYDcNzLC",
    "3xa3z_BkOE4T",
    "NbUi6tI_VzUv",
    "2HAgspG_VDfE"
   ],
   "name": "Numpy and Pandas 101",
   "provenance": []
  },
  "kernelspec": {
   "display_name": "Python 3",
   "name": "python3"
  }
 },
 "nbformat": 4,
 "nbformat_minor": 0
}
